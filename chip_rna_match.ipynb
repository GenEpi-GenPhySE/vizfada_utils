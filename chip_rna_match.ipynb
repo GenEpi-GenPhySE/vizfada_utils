{
 "cells": [
  {
   "cell_type": "code",
   "execution_count": 43,
   "id": "d347423b-acea-461f-88f7-022896b0d7a0",
   "metadata": {},
   "outputs": [],
   "source": [
    "import json\n",
    "import pandas as pd\n",
    "import sys\n",
    "import subprocess\n",
    "import os"
   ]
  },
  {
   "cell_type": "code",
   "execution_count": 44,
   "id": "52e65f18-20b0-4b67-9e82-9fcc84210115",
   "metadata": {},
   "outputs": [
    {
     "data": {
      "text/plain": [
       "['Bos_taurus', 'Sus_scrofa', 'Equus_caballus', 'Gallus_gallus', 'Ovis_aries']"
      ]
     },
     "execution_count": 44,
     "metadata": {},
     "output_type": "execute_result"
    }
   ],
   "source": [
    "dirs = [file for file in os.listdir(\"./data\") if \"_\" in file]\n",
    "dirs = [file for file in dirs if \"RNA-Seq\" in os.listdir(f\"data/{file}\")]\n",
    "dirs = [file for file in dirs if \"ChIP-Seq\" in os.listdir(f\"data/{file}\")]"
   ]
  },
  {
   "cell_type": "code",
   "execution_count": 45,
   "id": "e1318a0b-a7b9-4014-897b-cea8c686aa13",
   "metadata": {},
   "outputs": [],
   "source": [
    "def match_chip_rna(spdir, speciesName=\"\"):\n",
    "    \n",
    "    if not speciesName:\n",
    "        speciesName=os.path.basename(spdir)\n",
    "        \n",
    "    chip=json.load(open(f\"{spdir}/ChIP-Seq/metadata.json\"))\n",
    "    rna=json.load(open(f\"{spdir}/RNA-Seq/metadata.json\"))\n",
    "    \n",
    "    acc_chip = list(chip.keys())\n",
    "    chip = [dict({\"accession\": key}, **{k: v for k,v in value.items()}) for key, value in chip.items()]\n",
    "    rna = [dict({\"accession\": key}, **{k: v for k,v in value.items()}) for key, value in rna.items()]\n",
    "    \n",
    "    chipn=pd.json_normalize(chip)\n",
    "    rnan=pd.json_normalize(rna)\n",
    "\n",
    "    rnan.index = rnan[\"accession\"]\n",
    "    rnan = rnan[rnan[\"experiment.assayType\"].isin([\"RNA-seq of total RNA\", \"RNA-seq of coding RNA\", \"transcription profiling by high throughput sequencing\"])]\n",
    "    #rnan[\"cellType.ontologyTerms\"] = [c[c.rfind('/')+1:] for c in rnan[\"cellType.ontologyTerms\"]]\n",
    "    rnan = rnan[[\"accession\", \"biosampleId\", \"experiment.assayType\", \"cellType.text\"]]\n",
    "    chipn.index = chipn[\"accession\"]\n",
    "    #chipn[\"cellType.ontologyTerms\"] = [c[c.rfind('/')+1:] for c in chipn[\"cellType.ontologyTerms\"]]\n",
    "    chipn = chipn[[\"accession\", \"biosampleId\", \"experiment.assayType\", \"cellType.text\"]]\n",
    "    rnan = rnan[rnan[\"cellType.text\"].isin(chipn[\"cellType.text\"])]\n",
    "\n",
    "    chip_rna = pd.concat([rnan, chipn])\n",
    "    #chip_rna.columns\n",
    "    chip_rna_grouped = chip_rna.groupby([\"biosampleId\", \"cellType.text\", \"experiment.assayType\"]).count().sort_values([\"cellType.text\", \"biosampleId\"])\n",
    "\n",
    "    with open(f\"{speciesName}_chip_rna.csv\", \"w\") as f:\n",
    "        f.write(chip_rna_grouped.to_csv())\n",
    "\n",
    "    chip_rna = pd.merge(chipn, rnan, on=[\"biosampleId\"], how=\"inner\", suffixes=(\"_chip\", \"_rna\"))\n",
    "    chip_rna = chip_rna.drop_duplicates()\n",
    "    #print(chip_rna.shape, chipn.shape)\n",
    "    chip_rna[\"cellType.text\"] = chip_rna[\"cellType.text_chip\"]\n",
    "    chip_rna = chip_rna.drop([\"cellType.text_rna\", \"cellType.text_chip\"], axis=1)\n",
    "\n",
    "    with open(f\"{speciesName}_matching_specimen.csv\", \"w\") as f:\n",
    "        f.write(chip_rna.to_csv(index = False))\n",
    "\n",
    "    chip_no_match = chipn[~chipn[\"accession\"].isin(list(chip_rna[\"accession_chip\"]))]\n",
    "    chip_no_match = pd.merge(chip_no_match, rnan, on=\"cellType.text\", how=\"inner\", suffixes=(\"_chip\", \"_rna\"))\n",
    "    chip_no_match = chip_no_match.drop_duplicates()\n",
    "\n",
    "    with open(f\"{speciesName}_matching_celltype.csv\", \"w\") as f:\n",
    "        f.write(chip_no_match.to_csv(index = False))\n",
    "\n",
    "    c = set(chipn[\"accession\"]) - set(chip_rna[\"accession_chip\"]).union(set(chip_no_match[\"accession_chip\"]))\n",
    "    # print(c)\n",
    "    nChip = len(chip)\n",
    "    nRna = len(rna)\n",
    "    chipWithSpec = len(set(chip_rna[\"accession_chip\"]))\n",
    "    chipWithMatch = len(set(chip_no_match[\"accession_chip\"]))\n",
    "    totalChip = chipn.shape[0]\n",
    "\n",
    "    print(\"{} ChIP-Seq and {} RNA-Seq found\".format(nChip, nRna))\n",
    "    print(\"Chipseq with RNAseq on matching specimens : {}/{} ({} %)\".format(chipWithSpec, totalChip, chipWithSpec/totalChip*100))\n",
    "    print(\"Chipseq with RNAseq on matching specimens : {}/{} ({} %)\".format(chipWithMatch, totalChip, chipWithMatch/totalChip*100))\n",
    "    print(\"ChipSeq without matching RNA-Seq on specimen or same cell type: {}/{} ({} %)\".format(len(c), totalChip, len(c)/totalChip*100))"
   ]
  },
  {
   "cell_type": "code",
   "execution_count": 51,
   "id": "d47622be-8535-490a-8e39-67dbd6357244",
   "metadata": {},
   "outputs": [],
   "source": [
    "names = {\"Bos_taurus\": \"cow\", \"Equus_caballus\": \"horse\", \"Capra_hircus\": \"goat\", \"Ovis_aries\": \"sheep\", \"Gallus_gallus\": \"chicken\", \"Sus_scrofa\": \"pig\"}"
   ]
  },
  {
   "cell_type": "code",
   "execution_count": 50,
   "id": "ba4f5c7a-303a-4179-a842-084cb377b8f9",
   "metadata": {},
   "outputs": [
    {
     "name": "stdout",
     "output_type": "stream",
     "text": [
      "Bos_taurus\n",
      "210 ChIP-Seq and 408 RNA-Seq found\n",
      "Chipseq with RNAseq on matching specimens : 147/210 (70.0 %)\n",
      "Chipseq with RNAseq on matching specimens : 22/210 (10.476190476190476 %)\n",
      "ChipSeq without matching RNA-Seq on specimen or same cell type: 41/210 (19.523809523809526 %)\n",
      "Sus_scrofa\n",
      "106 ChIP-Seq and 384 RNA-Seq found\n",
      "Chipseq with RNAseq on matching specimens : 78/106 (73.58490566037736 %)\n",
      "Chipseq with RNAseq on matching specimens : 16/106 (15.09433962264151 %)\n",
      "ChipSeq without matching RNA-Seq on specimen or same cell type: 12/106 (11.320754716981133 %)\n",
      "Equus_caballus\n",
      "88 ChIP-Seq and 66 RNA-Seq found\n",
      "Chipseq with RNAseq on matching specimens : 82/88 (93.18181818181817 %)\n",
      "Chipseq with RNAseq on matching specimens : 0/88 (0.0 %)\n",
      "ChipSeq without matching RNA-Seq on specimen or same cell type: 6/88 (6.8181818181818175 %)\n",
      "Gallus_gallus\n",
      "25 ChIP-Seq and 340 RNA-Seq found\n",
      "Chipseq with RNAseq on matching specimens : 25/25 (100.0 %)\n",
      "Chipseq with RNAseq on matching specimens : 0/25 (0.0 %)\n",
      "ChipSeq without matching RNA-Seq on specimen or same cell type: 0/25 (0.0 %)\n",
      "Ovis_aries\n",
      "10 ChIP-Seq and 450 RNA-Seq found\n",
      "Chipseq with RNAseq on matching specimens : 0/10 (0.0 %)\n",
      "Chipseq with RNAseq on matching specimens : 0/10 (0.0 %)\n",
      "ChipSeq without matching RNA-Seq on specimen or same cell type: 10/10 (100.0 %)\n"
     ]
    }
   ],
   "source": [
    "if __name__ == \"__main__\":\n",
    "    root = sys.argv[1]\n",
    "\n",
    "    for d in dirs:\n",
    "        print(d)\n",
    "        path = f\"data/{d}\"\n",
    "        match_chip_rna(path, names[d])"
   ]
  },
  {
   "cell_type": "code",
   "execution_count": 54,
   "id": "e00bba7f-d090-431f-ad6f-28261b32dd79",
   "metadata": {},
   "outputs": [
    {
     "data": {
      "text/plain": [
       "True"
      ]
     },
     "execution_count": 54,
     "metadata": {},
     "output_type": "execute_result"
    }
   ],
   "source": [
    "\"hello\".startswith(\"h\")"
   ]
  },
  {
   "cell_type": "code",
   "execution_count": null,
   "id": "380030f7-6474-4ccd-b0cf-df997cdaff7d",
   "metadata": {},
   "outputs": [],
   "source": []
  }
 ],
 "metadata": {
  "kernelspec": {
   "display_name": "Python 3 (ipykernel)",
   "language": "python",
   "name": "python3"
  },
  "language_info": {
   "codemirror_mode": {
    "name": "ipython",
    "version": 3
   },
   "file_extension": ".py",
   "mimetype": "text/x-python",
   "name": "python",
   "nbconvert_exporter": "python",
   "pygments_lexer": "ipython3",
   "version": "3.8.10"
  }
 },
 "nbformat": 4,
 "nbformat_minor": 5
}
